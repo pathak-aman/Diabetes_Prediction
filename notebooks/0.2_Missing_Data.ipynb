{
 "cells": [
  {
   "cell_type": "code",
   "execution_count": 1,
   "metadata": {},
   "outputs": [],
   "source": [
    "import pandas as pd\n",
    "import numpy as np"
   ]
  },
  {
   "cell_type": "code",
   "execution_count": 2,
   "metadata": {},
   "outputs": [
    {
     "data": {
      "text/html": [
       "<div>\n",
       "<style scoped>\n",
       "    .dataframe tbody tr th:only-of-type {\n",
       "        vertical-align: middle;\n",
       "    }\n",
       "\n",
       "    .dataframe tbody tr th {\n",
       "        vertical-align: top;\n",
       "    }\n",
       "\n",
       "    .dataframe thead th {\n",
       "        text-align: right;\n",
       "    }\n",
       "</style>\n",
       "<table border=\"1\" class=\"dataframe\">\n",
       "  <thead>\n",
       "    <tr style=\"text-align: right;\">\n",
       "      <th></th>\n",
       "      <th>person_id</th>\n",
       "      <th>GenderCategory</th>\n",
       "      <th>RaceCategory</th>\n",
       "      <th>EthnicityCategory</th>\n",
       "      <th>Age</th>\n",
       "      <th>Region</th>\n",
       "      <th>Glipizide_Final</th>\n",
       "      <th>Glimepiride_Final</th>\n",
       "      <th>Glyburide_Final</th>\n",
       "      <th>Metformin_Final</th>\n",
       "      <th>...</th>\n",
       "      <th>Alzheimer_Final</th>\n",
       "      <th>FootUlcer_Final</th>\n",
       "      <th>Abnormal_Glucose_Final</th>\n",
       "      <th>DMScreen_Final</th>\n",
       "      <th>A1C_Final</th>\n",
       "      <th>GlucoseTest_Final</th>\n",
       "      <th>InsulinTest_Final</th>\n",
       "      <th>DM_Drugs</th>\n",
       "      <th>AnyLab</th>\n",
       "      <th>Diabetes_Indicator</th>\n",
       "    </tr>\n",
       "  </thead>\n",
       "  <tbody>\n",
       "    <tr>\n",
       "      <th>0</th>\n",
       "      <td>1</td>\n",
       "      <td>1</td>\n",
       "      <td>1</td>\n",
       "      <td>1</td>\n",
       "      <td>100</td>\n",
       "      <td>2</td>\n",
       "      <td>1.0</td>\n",
       "      <td>0.0</td>\n",
       "      <td>1.0</td>\n",
       "      <td>1.0</td>\n",
       "      <td>...</td>\n",
       "      <td>0.0</td>\n",
       "      <td>0.0</td>\n",
       "      <td>0.0</td>\n",
       "      <td>0.0</td>\n",
       "      <td>0.0</td>\n",
       "      <td>0.0</td>\n",
       "      <td>0.0</td>\n",
       "      <td>1</td>\n",
       "      <td>0</td>\n",
       "      <td>0.0</td>\n",
       "    </tr>\n",
       "    <tr>\n",
       "      <th>1</th>\n",
       "      <td>2</td>\n",
       "      <td>1</td>\n",
       "      <td>1</td>\n",
       "      <td>1</td>\n",
       "      <td>80</td>\n",
       "      <td>1</td>\n",
       "      <td>0.0</td>\n",
       "      <td>0.0</td>\n",
       "      <td>0.0</td>\n",
       "      <td>0.0</td>\n",
       "      <td>...</td>\n",
       "      <td>0.0</td>\n",
       "      <td>0.0</td>\n",
       "      <td>0.0</td>\n",
       "      <td>0.0</td>\n",
       "      <td>1.0</td>\n",
       "      <td>0.0</td>\n",
       "      <td>0.0</td>\n",
       "      <td>0</td>\n",
       "      <td>1</td>\n",
       "      <td>1.0</td>\n",
       "    </tr>\n",
       "    <tr>\n",
       "      <th>2</th>\n",
       "      <td>3</td>\n",
       "      <td>2</td>\n",
       "      <td>1</td>\n",
       "      <td>1</td>\n",
       "      <td>87</td>\n",
       "      <td>1</td>\n",
       "      <td>1.0</td>\n",
       "      <td>0.0</td>\n",
       "      <td>1.0</td>\n",
       "      <td>0.0</td>\n",
       "      <td>...</td>\n",
       "      <td>0.0</td>\n",
       "      <td>0.0</td>\n",
       "      <td>0.0</td>\n",
       "      <td>0.0</td>\n",
       "      <td>0.0</td>\n",
       "      <td>0.0</td>\n",
       "      <td>0.0</td>\n",
       "      <td>1</td>\n",
       "      <td>0</td>\n",
       "      <td>1.0</td>\n",
       "    </tr>\n",
       "    <tr>\n",
       "      <th>3</th>\n",
       "      <td>4</td>\n",
       "      <td>1</td>\n",
       "      <td>3</td>\n",
       "      <td>2</td>\n",
       "      <td>82</td>\n",
       "      <td>4</td>\n",
       "      <td>0.0</td>\n",
       "      <td>0.0</td>\n",
       "      <td>0.0</td>\n",
       "      <td>0.0</td>\n",
       "      <td>...</td>\n",
       "      <td>0.0</td>\n",
       "      <td>0.0</td>\n",
       "      <td>0.0</td>\n",
       "      <td>0.0</td>\n",
       "      <td>0.0</td>\n",
       "      <td>0.0</td>\n",
       "      <td>0.0</td>\n",
       "      <td>1</td>\n",
       "      <td>0</td>\n",
       "      <td>1.0</td>\n",
       "    </tr>\n",
       "    <tr>\n",
       "      <th>4</th>\n",
       "      <td>5</td>\n",
       "      <td>1</td>\n",
       "      <td>1</td>\n",
       "      <td>1</td>\n",
       "      <td>87</td>\n",
       "      <td>2</td>\n",
       "      <td>0.0</td>\n",
       "      <td>0.0</td>\n",
       "      <td>0.0</td>\n",
       "      <td>0.0</td>\n",
       "      <td>...</td>\n",
       "      <td>0.0</td>\n",
       "      <td>0.0</td>\n",
       "      <td>0.0</td>\n",
       "      <td>0.0</td>\n",
       "      <td>0.0</td>\n",
       "      <td>0.0</td>\n",
       "      <td>0.0</td>\n",
       "      <td>0</td>\n",
       "      <td>0</td>\n",
       "      <td>1.0</td>\n",
       "    </tr>\n",
       "  </tbody>\n",
       "</table>\n",
       "<p>5 rows × 44 columns</p>\n",
       "</div>"
      ],
      "text/plain": [
       "   person_id  GenderCategory  RaceCategory  EthnicityCategory  Age  Region  \\\n",
       "0          1               1             1                  1  100       2   \n",
       "1          2               1             1                  1   80       1   \n",
       "2          3               2             1                  1   87       1   \n",
       "3          4               1             3                  2   82       4   \n",
       "4          5               1             1                  1   87       2   \n",
       "\n",
       "   Glipizide_Final  Glimepiride_Final  Glyburide_Final  Metformin_Final  ...  \\\n",
       "0              1.0                0.0              1.0              1.0  ...   \n",
       "1              0.0                0.0              0.0              0.0  ...   \n",
       "2              1.0                0.0              1.0              0.0  ...   \n",
       "3              0.0                0.0              0.0              0.0  ...   \n",
       "4              0.0                0.0              0.0              0.0  ...   \n",
       "\n",
       "   Alzheimer_Final  FootUlcer_Final  Abnormal_Glucose_Final  DMScreen_Final  \\\n",
       "0              0.0              0.0                     0.0             0.0   \n",
       "1              0.0              0.0                     0.0             0.0   \n",
       "2              0.0              0.0                     0.0             0.0   \n",
       "3              0.0              0.0                     0.0             0.0   \n",
       "4              0.0              0.0                     0.0             0.0   \n",
       "\n",
       "   A1C_Final  GlucoseTest_Final  InsulinTest_Final  DM_Drugs  AnyLab  \\\n",
       "0        0.0                0.0                0.0         1       0   \n",
       "1        1.0                0.0                0.0         0       1   \n",
       "2        0.0                0.0                0.0         1       0   \n",
       "3        0.0                0.0                0.0         1       0   \n",
       "4        0.0                0.0                0.0         0       0   \n",
       "\n",
       "   Diabetes_Indicator  \n",
       "0                 0.0  \n",
       "1                 1.0  \n",
       "2                 1.0  \n",
       "3                 1.0  \n",
       "4                 1.0  \n",
       "\n",
       "[5 rows x 44 columns]"
      ]
     },
     "execution_count": 2,
     "metadata": {},
     "output_type": "execute_result"
    }
   ],
   "source": [
    "df=pd.read_csv(\"../data/GMS_ProjectDataset_V2.csv\")\n",
    "df.head()"
   ]
  },
  {
   "cell_type": "code",
   "execution_count": 3,
   "metadata": {},
   "outputs": [
    {
     "data": {
      "text/plain": [
       "Index(['Glipizide_Final', 'Glimepiride_Final', 'Glyburide_Final',\n",
       "       'Metformin_Final', 'Pioglitazone_Final', 'Rosiglitazone_Final',\n",
       "       'Beta_Blockers_Final', 'ACE_Inhibitors_Final', 'ARB_Final',\n",
       "       'Diuretics_Final', 'PPI_Final', 'Levothyroxine_Final', 'CCB_Final',\n",
       "       'Vasodilators_Final', 'Alpha_Blockers_Final',\n",
       "       'Centrally_Acting_Agents_Final', 'Statins_Final',\n",
       "       'Anti_Platelets_Final', 'Anti_Coagulants_Final', 'Steroids_Final',\n",
       "       'Heart_Disease_Final', 'Hypothyroid_Final', 'Anemia_Final',\n",
       "       'Kidney_Disease_Final', 'GERD_Final', 'Neuropathy_Final',\n",
       "       'Eye_Disorder_Final', 'Atherosclerosis_Final', 'Alzheimer_Final',\n",
       "       'FootUlcer_Final', 'Abnormal_Glucose_Final', 'DMScreen_Final',\n",
       "       'A1C_Final', 'GlucoseTest_Final', 'InsulinTest_Final',\n",
       "       'Diabetes_Indicator'],\n",
       "      dtype='object')"
      ]
     },
     "execution_count": 3,
     "metadata": {},
     "output_type": "execute_result"
    }
   ],
   "source": [
    "columns_with_nan = df.columns[df.isin(['', np.nan]).any()]\n",
    "columns_with_nan"
   ]
  },
  {
   "cell_type": "code",
   "execution_count": 4,
   "metadata": {},
   "outputs": [],
   "source": [
    "from sklearn.linear_model import LinearRegression\n",
    "import pandas as pd\n",
    "import numpy as np\n",
    "from sklearn.impute import SimpleImputer\n",
    "from sklearn.impute import KNNImputer\n",
    "\n",
    "# Initialize the Linear Regression model\n",
    "model = LinearRegression()\n",
    "\n",
    "# Define the columns with missing values\n",
    "columns_with_missing = columns_with_nan[:-1]\n",
    "\n",
    "# Impute missing values using SimpleImputer\n",
    "#imputer = SimpleImputer(strategy='KNN') \n",
    "imputer = KNNImputer(n_neighbors=5)\n",
    "#for col in columns_with_missing:\n",
    "for col in columns_with_missing:\n",
    "    df[col] = imputer.fit_transform(df[[col]]).round().astype(int)\n"
   ]
  },
  {
   "cell_type": "code",
   "execution_count": 5,
   "metadata": {},
   "outputs": [
    {
     "data": {
      "text/plain": [
       "Index(['Diabetes_Indicator'], dtype='object')"
      ]
     },
     "execution_count": 5,
     "metadata": {},
     "output_type": "execute_result"
    }
   ],
   "source": [
    "columns_with_nan = df.columns[df.isin(['', np.nan]).any()]\n",
    "columns_with_nan"
   ]
  },
  {
   "cell_type": "code",
   "execution_count": 6,
   "metadata": {},
   "outputs": [],
   "source": [
    "from sklearn.linear_model import LogisticRegression\n",
    "\n",
    "# Define the column with missing values\n",
    "column_with_missing = 'Diabetes_Indicator'\n",
    "\n",
    "# Create a copy of the DataFrame for imputation\n",
    "df_copy = df.copy()\n",
    "\n",
    "# Split the data into features (X) and target (y)\n",
    "X = df_copy.drop(columns=[column_with_missing])  # Features\n",
    "y = df_copy[column_with_missing]  # Target column\n",
    "\n",
    "# Identify rows with missing values in the target column\n",
    "missing_rows = y.isna()\n",
    "\n",
    "# Initialize the Logistic Regression model\n",
    "logistic_model = LogisticRegression(max_iter = 2000)\n",
    "\n",
    "# Fit the logistic regression model on non-missing data\n",
    "logistic_model.fit(X[~missing_rows], y[~missing_rows])\n",
    "\n",
    "# Predict and impute missing values for the target column\n",
    "imputed_values = logistic_model.predict(X[missing_rows])\n",
    "df.loc[missing_rows, column_with_missing] = imputed_values\n",
    "\n",
    "# Now, the missing values in the 'Diabetes_Indicator' column have been imputed using logistic regression\n"
   ]
  },
  {
   "cell_type": "code",
   "execution_count": 7,
   "metadata": {},
   "outputs": [
    {
     "data": {
      "text/plain": [
       "Index([], dtype='object')"
      ]
     },
     "execution_count": 7,
     "metadata": {},
     "output_type": "execute_result"
    }
   ],
   "source": [
    "columns_with_nan = df.columns[df.isin(['', np.nan]).any()]\n",
    "columns_with_nan"
   ]
  },
  {
   "cell_type": "code",
   "execution_count": 8,
   "metadata": {},
   "outputs": [
    {
     "name": "stdout",
     "output_type": "stream",
     "text": [
      "[0. 1.]\n"
     ]
    }
   ],
   "source": [
    "print(df['Diabetes_Indicator'].unique())"
   ]
  },
  {
   "cell_type": "code",
   "execution_count": 9,
   "metadata": {},
   "outputs": [],
   "source": [
    "from sklearn.model_selection import train_test_split"
   ]
  },
  {
   "cell_type": "code",
   "execution_count": 11,
   "metadata": {},
   "outputs": [],
   "source": [
    "# Split the dataset into features (X) and target (y)\n",
    "X = df.drop(columns=['Diabetes_Indicator'])\n",
    "y = df['Diabetes_Indicator']\n",
    "\n",
    "# Split the dataset into training (2/3) and testing (1/3) sets\n",
    "X_train, X_test, y_train, y_test = train_test_split(X, y, test_size=0.33, random_state=42, stratify=y)"
   ]
  },
  {
   "cell_type": "code",
   "execution_count": 13,
   "metadata": {},
   "outputs": [],
   "source": [
    "X_train.to_csv(\"../outputs/imputed_X_train.csv\", index=False)\n",
    "X_test.to_csv(\"../outputs/imputed_X_test.csv\", index=False)\n",
    "y_train.to_csv(\"../outputs/imputed_y_train.csv\", index=False)\n",
    "y_test.to_csv(\"../outputs/imputed_y_test.csv\", index=False)"
   ]
  },
  {
   "cell_type": "code",
   "execution_count": null,
   "metadata": {},
   "outputs": [],
   "source": []
  }
 ],
 "metadata": {
  "kernelspec": {
   "display_name": "DSClass",
   "language": "python",
   "name": "python3"
  },
  "language_info": {
   "codemirror_mode": {
    "name": "ipython",
    "version": 3
   },
   "file_extension": ".py",
   "mimetype": "text/x-python",
   "name": "python",
   "nbconvert_exporter": "python",
   "pygments_lexer": "ipython3",
   "version": "3.9.17"
  }
 },
 "nbformat": 4,
 "nbformat_minor": 2
}
