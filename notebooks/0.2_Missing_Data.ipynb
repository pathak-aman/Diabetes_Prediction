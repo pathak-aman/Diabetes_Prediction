{
 "cells": [
  {
   "cell_type": "code",
   "execution_count": 1,
   "metadata": {},
   "outputs": [],
   "source": [
    "import pandas as pd\n",
    "import numpy as np"
   ]
  },
  {
   "cell_type": "code",
   "execution_count": 2,
   "metadata": {},
   "outputs": [],
   "source": [
    "from sklearn.metrics import accuracy_score, precision_score, recall_score, f1_score, roc_auc_score, roc_curve, confusion_matrix\n",
    "from sklearn.ensemble import HistGradientBoostingClassifier\n",
    "from lightgbm import LGBMClassifier\n"
   ]
  },
  {
   "cell_type": "code",
   "execution_count": 3,
   "metadata": {},
   "outputs": [],
   "source": [
    "df=pd.read_csv(\"../data/GMS_ProjectDataset_V2.csv\")\n",
    "df.head()\n",
    "\n",
    "df = df.drop(\"person_id\", axis = 1)"
   ]
  },
  {
   "cell_type": "code",
   "execution_count": 4,
   "metadata": {},
   "outputs": [
    {
     "data": {
      "text/plain": [
       "Index(['Glipizide_Final', 'Glimepiride_Final', 'Glyburide_Final',\n",
       "       'Metformin_Final', 'Pioglitazone_Final', 'Rosiglitazone_Final',\n",
       "       'Beta_Blockers_Final', 'ACE_Inhibitors_Final', 'ARB_Final',\n",
       "       'Diuretics_Final', 'PPI_Final', 'Levothyroxine_Final', 'CCB_Final',\n",
       "       'Vasodilators_Final', 'Alpha_Blockers_Final',\n",
       "       'Centrally_Acting_Agents_Final', 'Statins_Final',\n",
       "       'Anti_Platelets_Final', 'Anti_Coagulants_Final', 'Steroids_Final',\n",
       "       'Heart_Disease_Final', 'Hypothyroid_Final', 'Anemia_Final',\n",
       "       'Kidney_Disease_Final', 'GERD_Final', 'Neuropathy_Final',\n",
       "       'Eye_Disorder_Final', 'Atherosclerosis_Final', 'Alzheimer_Final',\n",
       "       'FootUlcer_Final', 'Abnormal_Glucose_Final', 'DMScreen_Final',\n",
       "       'A1C_Final', 'GlucoseTest_Final', 'InsulinTest_Final',\n",
       "       'Diabetes_Indicator'],\n",
       "      dtype='object')"
      ]
     },
     "execution_count": 4,
     "metadata": {},
     "output_type": "execute_result"
    }
   ],
   "source": [
    "columns_with_nan = df.columns[df.isin(['', np.nan]).any()]\n",
    "columns_with_nan"
   ]
  },
  {
   "cell_type": "code",
   "execution_count": 5,
   "metadata": {},
   "outputs": [],
   "source": [
    "from sklearn.linear_model import LinearRegression\n",
    "import pandas as pd\n",
    "import numpy as np\n",
    "from sklearn.impute import SimpleImputer\n",
    "from sklearn.impute import KNNImputer\n",
    "\n",
    "# Initialize the Linear Regression model\n",
    "model = LinearRegression()\n",
    "\n",
    "# Define the columns with missing values\n",
    "columns_with_missing = columns_with_nan[:-1]\n",
    "\n",
    "# Impute missing values using SimpleImputer\n",
    "#imputer = SimpleImputer(strategy='KNN') \n",
    "imputer = KNNImputer(n_neighbors=5)\n",
    "#for col in columns_with_missing:\n",
    "for col in columns_with_missing:\n",
    "    df[col] = imputer.fit_transform(df[[col]]).round().astype(int)\n"
   ]
  },
  {
   "cell_type": "code",
   "execution_count": 6,
   "metadata": {},
   "outputs": [
    {
     "data": {
      "text/plain": [
       "Index(['Diabetes_Indicator'], dtype='object')"
      ]
     },
     "execution_count": 6,
     "metadata": {},
     "output_type": "execute_result"
    }
   ],
   "source": [
    "columns_with_nan = df.columns[df.isin(['', np.nan]).any()]\n",
    "columns_with_nan"
   ]
  },
  {
   "cell_type": "code",
   "execution_count": 7,
   "metadata": {},
   "outputs": [],
   "source": [
    "def eval(y_true, y_pred, y_pred_proba):\n",
    "    acc_score = accuracy_score(y_true, y_pred)\n",
    "    conf_mat = confusion_matrix(y_true,y_pred)\n",
    "\n",
    "    prec_score = precision_score(y_true, y_pred) \n",
    "    rec_score = recall_score(y_true, y_pred)\n",
    "    F1_score = f1_score(y_true, y_pred)\n",
    "\n",
    "    roc_auc = roc_auc_score(y_true, y_pred)\n",
    "    roc_auc_predict_proba = roc_auc_score(y_true, y_pred_proba)\n",
    "\n",
    "    print(f'Accuracy: {acc_score}')\n",
    "\n",
    "    print(\"Precision_score :\", prec_score)\n",
    "    print(\"recall_score :\", rec_score)\n",
    "    print(\"f1_score:\", F1_score)\n",
    "\n",
    "    print(f'ROC AUC score: {roc_auc}')\n",
    "    print(f'ROC AUC PROBA: {roc_auc_predict_proba}')\n",
    "\n",
    "    print(conf_mat)\n",
    "\n",
    "    print(\"==\" * 25)"
   ]
  },
  {
   "cell_type": "code",
   "execution_count": 8,
   "metadata": {},
   "outputs": [
    {
     "name": "stdout",
     "output_type": "stream",
     "text": [
      "[LightGBM] [Info] Number of positive: 771, number of negative: 159\n",
      "[LightGBM] [Info] Auto-choosing row-wise multi-threading, the overhead of testing was 0.000863 seconds.\n",
      "You can set `force_row_wise=true` to remove the overhead.\n",
      "And if memory is not enough, you can set `force_col_wise=true`.\n",
      "[LightGBM] [Info] Total Bins 134\n",
      "[LightGBM] [Info] Number of data points in the train set: 930, number of used features: 35\n",
      "[LightGBM] [Info] [binary:BoostFromScore]: pavg=0.829032 -> initscore=1.578784\n",
      "[LightGBM] [Info] Start training from score 1.578784\n",
      "[LightGBM] [Warning] No further splits with positive gain, best gain: -inf\n",
      "[LightGBM] [Warning] No further splits with positive gain, best gain: -inf\n",
      "[LightGBM] [Warning] No further splits with positive gain, best gain: -inf\n",
      "[LightGBM] [Warning] No further splits with positive gain, best gain: -inf\n",
      "[LightGBM] [Warning] No further splits with positive gain, best gain: -inf\n",
      "Accuracy: 0.9956989247311828\n",
      "Precision_score : 0.9948387096774194\n",
      "recall_score : 1.0\n",
      "f1_score: 0.9974126778783958\n",
      "ROC AUC score: 0.9874213836477987\n",
      "ROC AUC PROBA: 0.9999836853225004\n",
      "[[155   4]\n",
      " [  0 771]]\n",
      "==================================================\n"
     ]
    }
   ],
   "source": [
    "from sklearn.linear_model import LogisticRegression\n",
    "\n",
    "# Define the column with missing values\n",
    "column_with_missing = 'Diabetes_Indicator'\n",
    "\n",
    "# Create a copy of the DataFrame for imputation\n",
    "df_copy = df.copy()\n",
    "\n",
    "# Split the data into features (X) and target (y)\n",
    "X = df_copy.drop(columns=[column_with_missing])  # Features\n",
    "y = df_copy[column_with_missing]  # Target column\n",
    "\n",
    "# Identify rows with missing values in the target column\n",
    "missing_rows = y.isna()\n",
    "\n",
    "# Initialize the Logistic Regression model\n",
    "logistic_model = LGBMClassifier(random_state = 42)\n",
    "\n",
    "# Fit the logistic regression model on non-missing data\n",
    "logistic_model.fit(X[~missing_rows], y[~missing_rows])\n",
    "y_pred = logistic_model.predict(X[~missing_rows])\n",
    "y_pred_proba = logistic_model.predict_proba(X[~missing_rows])[:,1]\n",
    "eval(y[~missing_rows], y_pred, y_pred_proba)\n",
    "\n",
    "# Predict and impute missing values for the target column\n",
    "imputed_values = logistic_model.predict(X[missing_rows])\n",
    "df.loc[missing_rows, column_with_missing] = imputed_values\n",
    "\n",
    "# Now, the missing values in the 'Diabetes_Indicator' column have been imputed using logistic regression\n"
   ]
  },
  {
   "cell_type": "code",
   "execution_count": 9,
   "metadata": {},
   "outputs": [
    {
     "data": {
      "text/plain": [
       "Index([], dtype='object')"
      ]
     },
     "execution_count": 9,
     "metadata": {},
     "output_type": "execute_result"
    }
   ],
   "source": [
    "columns_with_nan = df.columns[df.isin(['', np.nan]).any()]\n",
    "columns_with_nan"
   ]
  },
  {
   "cell_type": "code",
   "execution_count": 10,
   "metadata": {},
   "outputs": [
    {
     "name": "stdout",
     "output_type": "stream",
     "text": [
      "[0. 1.]\n"
     ]
    }
   ],
   "source": [
    "print(df['Diabetes_Indicator'].unique())"
   ]
  },
  {
   "cell_type": "code",
   "execution_count": 11,
   "metadata": {},
   "outputs": [],
   "source": [
    "from sklearn.model_selection import train_test_split"
   ]
  },
  {
   "cell_type": "code",
   "execution_count": 12,
   "metadata": {},
   "outputs": [],
   "source": [
    "# Split the dataset into features (X) and target (y)\n",
    "X = df.drop(columns=['Diabetes_Indicator'])\n",
    "y = df['Diabetes_Indicator']\n",
    "\n",
    "# Split the dataset into training (2/3) and testing (1/3) sets\n",
    "X_train, X_test, y_train, y_test = train_test_split(X, y, test_size=0.33, random_state=42, stratify=y)"
   ]
  },
  {
   "cell_type": "code",
   "execution_count": 13,
   "metadata": {},
   "outputs": [],
   "source": [
    "X_train.to_csv(\"../outputs/imputed_X_train.csv\", index=False)\n",
    "X_test.to_csv(\"../outputs/imputed_X_test.csv\", index=False)\n",
    "y_train.to_csv(\"../outputs/imputed_y_train.csv\", index=False)\n",
    "y_test.to_csv(\"../outputs/imputed_y_test.csv\", index=False)"
   ]
  },
  {
   "cell_type": "code",
   "execution_count": null,
   "metadata": {},
   "outputs": [],
   "source": []
  }
 ],
 "metadata": {
  "kernelspec": {
   "display_name": "DSClass",
   "language": "python",
   "name": "python3"
  },
  "language_info": {
   "codemirror_mode": {
    "name": "ipython",
    "version": 3
   },
   "file_extension": ".py",
   "mimetype": "text/x-python",
   "name": "python",
   "nbconvert_exporter": "python",
   "pygments_lexer": "ipython3",
   "version": "3.9.17"
  }
 },
 "nbformat": 4,
 "nbformat_minor": 2
}
