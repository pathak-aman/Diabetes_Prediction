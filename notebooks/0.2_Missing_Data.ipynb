{
 "cells": [
  {
   "cell_type": "code",
   "execution_count": 1,
   "metadata": {},
   "outputs": [],
   "source": [
    "import pandas as pd\n",
    "import numpy as np"
   ]
  },
  {
   "cell_type": "code",
   "execution_count": 2,
   "metadata": {},
   "outputs": [],
   "source": [
    "df=pd.read_csv(\"../data/GMS_ProjectDataset_V2.csv\")\n",
    "df.head()\n",
    "\n",
    "df = df.drop(\"person_id\", axis = 1)"
   ]
  },
  {
   "cell_type": "code",
   "execution_count": 3,
   "metadata": {},
   "outputs": [
    {
     "data": {
      "text/plain": [
       "Index(['Glipizide_Final', 'Glimepiride_Final', 'Glyburide_Final',\n",
       "       'Metformin_Final', 'Pioglitazone_Final', 'Rosiglitazone_Final',\n",
       "       'Beta_Blockers_Final', 'ACE_Inhibitors_Final', 'ARB_Final',\n",
       "       'Diuretics_Final', 'PPI_Final', 'Levothyroxine_Final', 'CCB_Final',\n",
       "       'Vasodilators_Final', 'Alpha_Blockers_Final',\n",
       "       'Centrally_Acting_Agents_Final', 'Statins_Final',\n",
       "       'Anti_Platelets_Final', 'Anti_Coagulants_Final', 'Steroids_Final',\n",
       "       'Heart_Disease_Final', 'Hypothyroid_Final', 'Anemia_Final',\n",
       "       'Kidney_Disease_Final', 'GERD_Final', 'Neuropathy_Final',\n",
       "       'Eye_Disorder_Final', 'Atherosclerosis_Final', 'Alzheimer_Final',\n",
       "       'FootUlcer_Final', 'Abnormal_Glucose_Final', 'DMScreen_Final',\n",
       "       'A1C_Final', 'GlucoseTest_Final', 'InsulinTest_Final',\n",
       "       'Diabetes_Indicator'],\n",
       "      dtype='object')"
      ]
     },
     "execution_count": 3,
     "metadata": {},
     "output_type": "execute_result"
    }
   ],
   "source": [
    "columns_with_nan = df.columns[df.isin(['', np.nan]).any()]\n",
    "columns_with_nan"
   ]
  },
  {
   "cell_type": "code",
   "execution_count": 4,
   "metadata": {},
   "outputs": [],
   "source": [
    "from sklearn.linear_model import LinearRegression\n",
    "import pandas as pd\n",
    "import numpy as np\n",
    "from sklearn.impute import SimpleImputer\n",
    "from sklearn.impute import KNNImputer\n",
    "\n",
    "# Initialize the Linear Regression model\n",
    "model = LinearRegression()\n",
    "\n",
    "# Define the columns with missing values\n",
    "columns_with_missing = columns_with_nan[:-1]\n",
    "\n",
    "# Impute missing values using SimpleImputer\n",
    "#imputer = SimpleImputer(strategy='KNN') \n",
    "imputer = KNNImputer(n_neighbors=5)\n",
    "#for col in columns_with_missing:\n",
    "for col in columns_with_missing:\n",
    "    df[col] = imputer.fit_transform(df[[col]]).round().astype(int)\n"
   ]
  },
  {
   "cell_type": "code",
   "execution_count": 5,
   "metadata": {},
   "outputs": [
    {
     "data": {
      "text/plain": [
       "Index(['Diabetes_Indicator'], dtype='object')"
      ]
     },
     "execution_count": 5,
     "metadata": {},
     "output_type": "execute_result"
    }
   ],
   "source": [
    "columns_with_nan = df.columns[df.isin(['', np.nan]).any()]\n",
    "columns_with_nan"
   ]
  },
  {
   "cell_type": "code",
   "execution_count": 6,
   "metadata": {},
   "outputs": [],
   "source": [
    "from sklearn.linear_model import LogisticRegression\n",
    "\n",
    "# Define the column with missing values\n",
    "column_with_missing = 'Diabetes_Indicator'\n",
    "\n",
    "# Create a copy of the DataFrame for imputation\n",
    "df_copy = df.copy()\n",
    "\n",
    "# Split the data into features (X) and target (y)\n",
    "X = df_copy.drop(columns=[column_with_missing])  # Features\n",
    "y = df_copy[column_with_missing]  # Target column\n",
    "\n",
    "# Identify rows with missing values in the target column\n",
    "missing_rows = y.isna()\n",
    "\n",
    "# Initialize the Logistic Regression model\n",
    "logistic_model = LogisticRegression(max_iter = 2000)\n",
    "\n",
    "# Fit the logistic regression model on non-missing data\n",
    "logistic_model.fit(X[~missing_rows], y[~missing_rows])\n",
    "\n",
    "# Predict and impute missing values for the target column\n",
    "imputed_values = logistic_model.predict(X[missing_rows])\n",
    "df.loc[missing_rows, column_with_missing] = imputed_values\n",
    "\n",
    "# Now, the missing values in the 'Diabetes_Indicator' column have been imputed using logistic regression\n"
   ]
  },
  {
   "cell_type": "code",
   "execution_count": 7,
   "metadata": {},
   "outputs": [
    {
     "data": {
      "text/plain": [
       "Index([], dtype='object')"
      ]
     },
     "execution_count": 7,
     "metadata": {},
     "output_type": "execute_result"
    }
   ],
   "source": [
    "columns_with_nan = df.columns[df.isin(['', np.nan]).any()]\n",
    "columns_with_nan"
   ]
  },
  {
   "cell_type": "code",
   "execution_count": 8,
   "metadata": {},
   "outputs": [
    {
     "name": "stdout",
     "output_type": "stream",
     "text": [
      "[0. 1.]\n"
     ]
    }
   ],
   "source": [
    "print(df['Diabetes_Indicator'].unique())"
   ]
  },
  {
   "cell_type": "code",
   "execution_count": 9,
   "metadata": {},
   "outputs": [],
   "source": [
    "from sklearn.model_selection import train_test_split"
   ]
  },
  {
   "cell_type": "code",
   "execution_count": 10,
   "metadata": {},
   "outputs": [],
   "source": [
    "# Split the dataset into features (X) and target (y)\n",
    "X = df.drop(columns=['Diabetes_Indicator'])\n",
    "y = df['Diabetes_Indicator']\n",
    "\n",
    "# Split the dataset into training (2/3) and testing (1/3) sets\n",
    "X_train, X_test, y_train, y_test = train_test_split(X, y, test_size=0.33, random_state=42, stratify=y)"
   ]
  },
  {
   "cell_type": "code",
   "execution_count": 11,
   "metadata": {},
   "outputs": [],
   "source": [
    "X_train.to_csv(\"../outputs/imputed_X_train.csv\", index=False)\n",
    "X_test.to_csv(\"../outputs/imputed_X_test.csv\", index=False)\n",
    "y_train.to_csv(\"../outputs/imputed_y_train.csv\", index=False)\n",
    "y_test.to_csv(\"../outputs/imputed_y_test.csv\", index=False)"
   ]
  },
  {
   "cell_type": "code",
   "execution_count": null,
   "metadata": {},
   "outputs": [],
   "source": []
  }
 ],
 "metadata": {
  "kernelspec": {
   "display_name": "DSClass",
   "language": "python",
   "name": "python3"
  },
  "language_info": {
   "codemirror_mode": {
    "name": "ipython",
    "version": 3
   },
   "file_extension": ".py",
   "mimetype": "text/x-python",
   "name": "python",
   "nbconvert_exporter": "python",
   "pygments_lexer": "ipython3",
   "version": "3.9.17"
  }
 },
 "nbformat": 4,
 "nbformat_minor": 2
}
