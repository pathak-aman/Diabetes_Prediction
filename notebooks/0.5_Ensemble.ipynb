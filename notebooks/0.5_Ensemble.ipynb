{
 "cells": [
  {
   "cell_type": "code",
   "execution_count": 27,
   "metadata": {},
   "outputs": [],
   "source": [
    "import pandas as pd\n",
    "import numpy as np\n",
    "import seaborn as sns\n",
    "import os\n",
    "import joblib\n",
    "\n",
    "\n",
    "from sklearn.metrics import accuracy_score, precision_score, recall_score, f1_score, roc_auc_score, roc_curve, confusion_matrix\n",
    "from sklearn.linear_model import LogisticRegression\n",
    "import lightgbm as lgb\n",
    "from lightgbm import LGBMClassifier\n",
    "from sklearn.preprocessing import LabelEncoder\n",
    "# from catboost import CatBoostClassifier\n",
    "from sklearn.ensemble import HistGradientBoostingClassifier, VotingClassifier"
   ]
  },
  {
   "cell_type": "code",
   "execution_count": 57,
   "metadata": {},
   "outputs": [],
   "source": [
    "X_train = pd.read_csv(\"../outputs/imputed_X_train_SMOTE_0_35.csv\")\n",
    "y_train = pd.read_csv(\"../outputs/imputed_y_train_SMOTE_0_35.csv\")\n",
    "X_test = pd.read_csv(\"../outputs/imputed_X_test_scaled_0_35.csv\")\n",
    "y_test = pd.read_csv(\"../outputs/imputed_y_test.csv\")\n",
    "\n",
    "numerical_col = [\"Age\"]\n",
    "categorical_col = list(X_train.columns)\n",
    "categorical_col.remove(\"Age\")\n",
    "X_train[categorical_col] = X_train[categorical_col].astype('category')\n",
    "\n",
    "categorical_features = X_train.columns[X_train.dtypes == 'category']\n",
    "cat_col_numbers = [X_train.columns.get_loc(col) for col in X_train.select_dtypes(include=\"category\")]\n",
    "categorical_features\n",
    "\n",
    "lbl = LabelEncoder()\n",
    "for col in categorical_col:\n",
    "    X_train[col] = lbl.fit_transform(X_train[col])\n",
    "    X_test[col] = lbl.transform(X_test[col])\n",
    "\n",
    "def eval(y_true, y_pred):\n",
    "    y_pred_proba = y_pred\n",
    "    y_pred= np.where(y_pred > 0.5, 1, 0)\n",
    "\n",
    "    acc_score = accuracy_score(y_true, y_pred)\n",
    "    conf_mat = confusion_matrix(y_true,y_pred)\n",
    "\n",
    "    prec_score = precision_score(y_true, y_pred) \n",
    "    rec_score = recall_score(y_true, y_pred)\n",
    "    F1_score = f1_score(y_true, y_pred)\n",
    "\n",
    "    roc_auc = roc_auc_score(y_true, y_pred)\n",
    "    roc_auc_predict_proba = roc_auc_score(y_true, y_pred_proba)\n",
    "\n",
    "    print(f'Accuracy: {acc_score}')\n",
    "\n",
    "    print(\"Precision_score :\", prec_score)\n",
    "    print(\"recall_score :\", rec_score)\n",
    "    print(\"f1_score:\", F1_score)\n",
    "\n",
    "    print(f'ROC AUC score: {roc_auc}')\n",
    "    print(f'ROC AUC PROBA: {roc_auc_predict_proba}')\n",
    "\n",
    "    print(conf_mat)\n",
    "\n",
    "    print(\"==\" * 25)"
   ]
  },
  {
   "cell_type": "code",
   "execution_count": 37,
   "metadata": {},
   "outputs": [
    {
     "data": {
      "text/plain": [
       "[('HGB_ROC AUC PROBA: 0.848',\n",
       "  HistGradientBoostingClassifier(early_stopping=True,\n",
       "                                 l2_regularization=0.10632888567718654,\n",
       "                                 learning_rate=0.031839425208113385, max_bins=10,\n",
       "                                 max_depth=3, max_leaf_nodes=8,\n",
       "                                 min_samples_leaf=6)),\n",
       " ('HGB_ROC AUC PROBA: 0.836',\n",
       "  HistGradientBoostingClassifier(early_stopping=True,\n",
       "                                 l2_regularization=1.2353934731449698,\n",
       "                                 learning_rate=0.01454401470899228, max_bins=8,\n",
       "                                 max_depth=4, max_leaf_nodes=10,\n",
       "                                 min_samples_leaf=4)),\n",
       " ('HGB_ROC AUC PROBA: 0.8551',\n",
       "  HistGradientBoostingClassifier(early_stopping=True,\n",
       "                                 l2_regularization=2.226260922772902,\n",
       "                                 learning_rate=0.013043078423741325, max_bins=8,\n",
       "                                 max_depth=4, max_leaf_nodes=11,\n",
       "                                 min_samples_leaf=7)),\n",
       " ('LGBM_ROC AUC PROBA: 0.854',\n",
       "  LGBMClassifier(class_weight='balanced', colsample_bytree=0.7946295496353112,\n",
       "                 learning_rate=0.017030708220437618, max_bins=8, max_depth=4,\n",
       "                 metric='AUC', min_samples_leaf=5, num_leaves=11,\n",
       "                 objective='binary', reg_alpha=0.4176381653844929,\n",
       "                 reg_lambda=1.3777670158088087, subsample=0.4773852096718483,\n",
       "                 verbose=-1)),\n",
       " ('LGBM_ROC AUC PROBA: 0.855',\n",
       "  LGBMClassifier(class_weight='balanced', colsample_bytree=0.724242391684351,\n",
       "                 learning_rate=0.06484598053164509, max_bins=11, max_depth=2,\n",
       "                 metric='AUC', min_samples_leaf=11, num_leaves=5,\n",
       "                 objective='binary', reg_alpha=3.630461743679834,\n",
       "                 reg_lambda=3.1207777209814385, subsample=0.02809575326181859,\n",
       "                 verbose=-1))]"
      ]
     },
     "execution_count": 37,
     "metadata": {},
     "output_type": "execute_result"
    }
   ],
   "source": [
    "all_estimators = []\n",
    "for files in os.listdir(\"../models/HGB\"):\n",
    "    estimator = (files.split(\".sav\")[0], joblib.load(\"../models/HGB/\"+files))\n",
    "    all_estimators.append(estimator)\n",
    "\n",
    "for files in os.listdir(\"../models/LGBM\"):\n",
    "    estimator = (files.split(\".sav\")[0], joblib.load(\"../models/LGBM/\"+files))\n",
    "    all_estimators.append(estimator)\n",
    "\n",
    "all_estimators"
   ]
  },
  {
   "cell_type": "code",
   "execution_count": 38,
   "metadata": {},
   "outputs": [
    {
     "name": "stdout",
     "output_type": "stream",
     "text": [
      "Accuracy: 0.8744884038199181\n",
      "Precision_score : 0.8841567291311755\n",
      "recall_score : 0.9558011049723757\n",
      "f1_score: 0.9185840707964602\n",
      "ROC AUC score: 0.7989531840651353\n",
      "ROC AUC PROBA: 0.9140593195696424\n",
      "[[122  68]\n",
      " [ 24 519]]\n",
      "==================================================\n",
      "Accuracy: 0.8545454545454545\n",
      "Precision_score : 0.9074074074074074\n",
      "recall_score : 0.914179104477612\n",
      "f1_score: 0.9107806691449815\n",
      "ROC AUC score: 0.7554766490129996\n",
      "ROC AUC PROBA: 0.8521906596051997\n",
      "[[ 37  25]\n",
      " [ 23 245]]\n",
      "==================================================\n"
     ]
    }
   ],
   "source": [
    "ens_model = VotingClassifier(estimators=all_estimators, voting='soft')\n",
    "\n",
    "ens_model.fit(X_train,y_train.values.ravel())\n",
    "\n",
    "y_pred = ens_model.predict(X_train)\n",
    "# y_pred_proba = ens_model.predict_proba(X_train)[:,1]\n",
    "eval(y_train, y_pred)\n",
    "\n",
    "\n",
    "y_pred = ens_model.predict(X_test)\n",
    "# y_pred_proba = ens_model.predict_proba(X_test)[:,1]\n",
    "eval(y_test, y_pred)"
   ]
  },
  {
   "cell_type": "code",
   "execution_count": 39,
   "metadata": {},
   "outputs": [],
   "source": [
    "lgb_1 = lgb.Booster(model_file=\"../models/LGBM_ROC AUC PROBA: 0.8601.txt\")"
   ]
  },
  {
   "cell_type": "code",
   "execution_count": 58,
   "metadata": {},
   "outputs": [
    {
     "name": "stdout",
     "output_type": "stream",
     "text": [
      "Accuracy: 0.8363636363636363\n",
      "Precision_score : 0.9349593495934959\n",
      "recall_score : 0.8582089552238806\n",
      "f1_score: 0.8949416342412452\n",
      "ROC AUC score: 0.8000722195474242\n",
      "ROC AUC PROBA: 0.8601348098218584\n",
      "[[ 46  16]\n",
      " [ 38 230]]\n",
      "==================================================\n"
     ]
    }
   ],
   "source": [
    "y_pred = lgb_1.predict(X_test)\n",
    "eval(y_test, y_pred)"
   ]
  },
  {
   "cell_type": "code",
   "execution_count": null,
   "metadata": {},
   "outputs": [],
   "source": []
  }
 ],
 "metadata": {
  "kernelspec": {
   "display_name": "DSClass",
   "language": "python",
   "name": "python3"
  },
  "language_info": {
   "codemirror_mode": {
    "name": "ipython",
    "version": 3
   },
   "file_extension": ".py",
   "mimetype": "text/x-python",
   "name": "python",
   "nbconvert_exporter": "python",
   "pygments_lexer": "ipython3",
   "version": "3.9.17"
  }
 },
 "nbformat": 4,
 "nbformat_minor": 2
}
