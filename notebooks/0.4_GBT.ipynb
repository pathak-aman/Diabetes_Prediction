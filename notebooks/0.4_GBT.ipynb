{
 "cells": [
  {
   "cell_type": "code",
   "execution_count": 1,
   "metadata": {},
   "outputs": [],
   "source": [
    "import pandas as pd\n",
    "import numpy as np\n",
    "import seaborn as sns"
   ]
  },
  {
   "cell_type": "code",
   "execution_count": 2,
   "metadata": {},
   "outputs": [],
   "source": [
    "# from sklearn.model_selection import train_test_split, cross_val_score, cross_val_predict\n",
    "from sklearn.metrics import accuracy_score, precision_score, recall_score, f1_score, roc_auc_score, roc_curve, classification_report\n",
    "\n",
    "from lightgbm import LGBMClassifier\n",
    "from xgboost import XGBClassifier\n",
    "from sklearn.ensemble import HistGradientBoostingClassifier\n",
    "from sklearn.model_selection import train_test_split, cross_val_score, StratifiedKFold\n",
    "from sklearn.preprocessing import LabelEncoder"
   ]
  },
  {
   "cell_type": "code",
   "execution_count": 3,
   "metadata": {},
   "outputs": [],
   "source": [
    "X_train = pd.read_csv(\"../outputs/imputed_X_train_SMOTE.csv\")\n",
    "y_train = pd.read_csv(\"../outputs/imputed_y_train_SMOTE.csv\")\n",
    "X_test = pd.read_csv(\"../outputs/imputed_X_test_scaled.csv\")\n",
    "y_test = pd.read_csv(\"../outputs/imputed_y_test.csv\")"
   ]
  },
  {
   "cell_type": "code",
   "execution_count": 4,
   "metadata": {},
   "outputs": [
    {
     "data": {
      "text/plain": [
       "((981, 39), (330, 39))"
      ]
     },
     "execution_count": 4,
     "metadata": {},
     "output_type": "execute_result"
    }
   ],
   "source": [
    "X_train.shape, X_test.shape"
   ]
  },
  {
   "cell_type": "code",
   "execution_count": 5,
   "metadata": {},
   "outputs": [],
   "source": [
    "numerical_col = [\"Age\"]\n",
    "categorical_col = list(X_train.columns)\n",
    "categorical_col.remove(\"Age\")\n",
    "X_train[categorical_col] = X_train[categorical_col].astype('category')"
   ]
  },
  {
   "cell_type": "code",
   "execution_count": 12,
   "metadata": {},
   "outputs": [
    {
     "data": {
      "text/plain": [
       "Index([], dtype='object')"
      ]
     },
     "execution_count": 12,
     "metadata": {},
     "output_type": "execute_result"
    }
   ],
   "source": [
    "categorical_features = X_train.columns[X_train.dtypes == 'category']\n",
    "cat_col_numbers = [X_train.columns.get_loc(col) for col in X_train.select_dtypes(include=\"category\")]\n",
    "categorical_features\n"
   ]
  },
  {
   "cell_type": "code",
   "execution_count": 7,
   "metadata": {},
   "outputs": [],
   "source": [
    "lbl = LabelEncoder()\n",
    "for col in categorical_col:\n",
    "    X_train[col] = lbl.fit_transform(X_train[col])\n",
    "    X_test[col] = lbl.transform(X_test[col])"
   ]
  },
  {
   "cell_type": "markdown",
   "metadata": {},
   "source": [
    "# Modelling"
   ]
  },
  {
   "cell_type": "code",
   "execution_count": 13,
   "metadata": {},
   "outputs": [],
   "source": [
    "n_estimators = 1000\n",
    "n_splits = 5\n",
    "\n",
    "model_params = {\n",
    "    \"hgb_1\" : {\n",
    "        \"max_iter\":n_estimators,\n",
    "        \"learning_rate\":0.015,\n",
    "        \"loss\":\"log_loss\",\n",
    "        \"n_iter_no_change\":100,\n",
    "        \"l2_regularization\" : 0.02,\n",
    "        \"random_state\" : 42,\n",
    "        \"categorical_features\" : cat_col_numbers\n",
    "        \n",
    "    },\n",
    "    \"lgbm_1\" :{\n",
    "        \"objective\" : \"mae\",\n",
    "        \"metric\" : 'binary_logloss',\n",
    "        \"learning_rate\" : 0.018, \n",
    "        \"max_depth\" : 15,\n",
    "        \"random_state\" : 56,\n",
    "        \"reg_alpha\" : 0.01246,\n",
    "        \"reg_lambda\": 0.023483,\n",
    "        \"subsample\" : 0.35,\n",
    "        \"colsample_bytree\" : 0.8,\n",
    "        \"verbose\" : 0,\n",
    "        \"num_leaves\" : 16,\n",
    "        \"categorical_features\" : cat_col_numbers\n",
    "    }\n",
    "\n",
    "}\n",
    "\n",
    "hgb_1 = HistGradientBoostingClassifier(**model_params[\"hgb_1\"])\n",
    "xgb_1 = XGBClassifier(**model_params[\"xgb_1\"])\n",
    "lgbm_1 = LGBMClassifier(**model_params[\"lgbm_1\"])"
   ]
  },
  {
   "cell_type": "code",
   "execution_count": 10,
   "metadata": {},
   "outputs": [],
   "source": [
    "oofs_dict = {model + \"_oof\" : np.zeros(len(X_train)) for model in model_params.keys()}\n",
    "oofs_dict;"
   ]
  },
  {
   "cell_type": "code",
   "execution_count": 29,
   "metadata": {},
   "outputs": [
    {
     "name": "stdout",
     "output_type": "stream",
     "text": [
      "==================== Fold :  0 ====================\n",
      "Fold 0 HGB_1:  0.9424520433694745\n",
      "Fold 0 XGB_1:  0.5\n",
      "Fold 0 LGBM_1:  0.90121976647206\n",
      "==================== Fold :  1 ====================\n",
      "Fold 1 HGB_1:  0.9657281451017611\n",
      "Fold 1 XGB_1:  0.5\n",
      "Fold 1 LGBM_1:  0.9022461246440999\n",
      "==================== Fold :  2 ====================\n",
      "Fold 2 HGB_1:  0.9345143941790572\n",
      "Fold 2 XGB_1:  0.5\n",
      "Fold 2 LGBM_1:  0.8690287883581146\n",
      "==================== Fold :  3 ====================\n",
      "Fold 3 HGB_1:  0.9297690604239165\n",
      "Fold 3 XGB_1:  0.5\n",
      "[LightGBM] [Warning] No further splits with positive gain, best gain: -inf\n",
      "Fold 3 LGBM_1:  0.8751449963091849\n",
      "==================== Fold :  4 ====================\n",
      "Fold 4 HGB_1:  0.9000316355583676\n",
      "Fold 4 XGB_1:  0.5\n",
      "Fold 4 LGBM_1:  0.8501529051987767\n"
     ]
    }
   ],
   "source": [
    "kf = StratifiedKFold(n_splits=n_splits, random_state=2023, shuffle=True)\n",
    "\n",
    "for num_fold, (train_index, val_index) in enumerate(kf.split(X_train,y_train.values)):\n",
    "\n",
    "    X_train\n",
    "    \n",
    "    print(\"=\"*20, \"Fold : \", num_fold, \"=\"*20)\n",
    "    X_train_fold = X_train.iloc[train_index]\n",
    "    X_val_fold = X_train.iloc[val_index]\n",
    "    y_train_fold = y_train.iloc[train_index].values.ravel()\n",
    "    y_val_fold = y_train.iloc[val_index].values.ravel()\n",
    "\n",
    "    hgb_1.fit(X_train_fold, y_train_fold)\n",
    "    oofs_dict[\"hgb_1_oof\"][val_index] = hgb_1.predict(X_val_fold)\n",
    "    # predictions_dict[\"hgb_1_preds\"] += hgb_1.predict(X_test)/ n_splits\n",
    "    print('Fold', num_fold, 'HGB_1: ',roc_auc_score(y_val_fold, hgb_1.predict_proba(X_val_fold)[:, 1]))\n",
    "    \n",
    "    xgb_1.fit(X_train_fold, y_train_fold)\n",
    "    oofs_dict[\"xgb_1_oof\"][val_index] = xgb_1.predict(X_val_fold)\n",
    "    # predictions_dict[\"xgb_1_preds\"] += xgb_1.predict(X_test)/ n_splits\n",
    "    print('Fold', num_fold, 'XGB_1: ',roc_auc_score(y_val_fold, xgb_1.predict_proba(X_val_fold)[:, 1]))\n",
    "    \n",
    "    lgbm_1.fit(X_train_fold, y_train_fold)\n",
    "    oofs_dict[\"lgbm_1_oof\"][val_index] = lgbm_1.predict(X_val_fold)\n",
    "    # predictions_dict[\"lgbm_1_preds\"] += lgbm_1.predict(X_test)/ n_splits\n",
    "    print('Fold', num_fold, 'LGBM_1: ',roc_auc_score(y_val_fold, lgbm_1.predict_proba(X_val_fold)[:, 1]))"
   ]
  },
  {
   "cell_type": "code",
   "execution_count": 23,
   "metadata": {},
   "outputs": [
    {
     "name": "stdout",
     "output_type": "stream",
     "text": [
      "              precision    recall  f1-score   support\n",
      "\n",
      "         0.0       0.44      0.80      0.57       436\n",
      "         1.0       0.55      0.20      0.29       545\n",
      "\n",
      "    accuracy                           0.47       981\n",
      "   macro avg       0.50      0.50      0.43       981\n",
      "weighted avg       0.50      0.47      0.42       981\n",
      "\n"
     ]
    }
   ],
   "source": [
    "print(classification_report(y_train, oofs_dict[\"xgb_1_oof\"]))"
   ]
  },
  {
   "cell_type": "code",
   "execution_count": 16,
   "metadata": {},
   "outputs": [
    {
     "ename": "ValueError",
     "evalue": "The truth value of an array with more than one element is ambiguous. Use a.any() or a.all()",
     "output_type": "error",
     "traceback": [
      "\u001b[0;31m---------------------------------------------------------------------------\u001b[0m",
      "\u001b[0;31mValueError\u001b[0m                                Traceback (most recent call last)",
      "\u001b[1;32m/Users/aman.pathak/Library/CloudStorage/OneDrive-UniversityofFlorida/College Work/M.S. in BMI/Fall 2023/Data Science in CR/Diabetes_Prediction/notebooks/0.4_GBT.ipynb Cell 9\u001b[0m line \u001b[0;36m1\n\u001b[0;32m----> <a href='vscode-notebook-cell:/Users/aman.pathak/Library/CloudStorage/OneDrive-UniversityofFlorida/College%20Work/M.S.%20in%20BMI/Fall%202023/Data%20Science%20in%20CR/Diabetes_Prediction/notebooks/0.4_GBT.ipynb#X12sZmlsZQ%3D%3D?line=0'>1</a>\u001b[0m cv_results \u001b[39m=\u001b[39m lgb\u001b[39m.\u001b[39;49mcv(\n\u001b[1;32m      <a href='vscode-notebook-cell:/Users/aman.pathak/Library/CloudStorage/OneDrive-UniversityofFlorida/College%20Work/M.S.%20in%20BMI/Fall%202023/Data%20Science%20in%20CR/Diabetes_Prediction/notebooks/0.4_GBT.ipynb#X12sZmlsZQ%3D%3D?line=1'>2</a>\u001b[0m     params,\n\u001b[1;32m      <a href='vscode-notebook-cell:/Users/aman.pathak/Library/CloudStorage/OneDrive-UniversityofFlorida/College%20Work/M.S.%20in%20BMI/Fall%202023/Data%20Science%20in%20CR/Diabetes_Prediction/notebooks/0.4_GBT.ipynb#X12sZmlsZQ%3D%3D?line=2'>3</a>\u001b[0m     train_data,\n\u001b[1;32m      <a href='vscode-notebook-cell:/Users/aman.pathak/Library/CloudStorage/OneDrive-UniversityofFlorida/College%20Work/M.S.%20in%20BMI/Fall%202023/Data%20Science%20in%20CR/Diabetes_Prediction/notebooks/0.4_GBT.ipynb#X12sZmlsZQ%3D%3D?line=3'>4</a>\u001b[0m     num_boost_round\u001b[39m=\u001b[39;49m\u001b[39m1000\u001b[39;49m,\n\u001b[1;32m      <a href='vscode-notebook-cell:/Users/aman.pathak/Library/CloudStorage/OneDrive-UniversityofFlorida/College%20Work/M.S.%20in%20BMI/Fall%202023/Data%20Science%20in%20CR/Diabetes_Prediction/notebooks/0.4_GBT.ipynb#X12sZmlsZQ%3D%3D?line=4'>5</a>\u001b[0m     nfold\u001b[39m=\u001b[39;49m\u001b[39m5\u001b[39;49m,\n\u001b[1;32m      <a href='vscode-notebook-cell:/Users/aman.pathak/Library/CloudStorage/OneDrive-UniversityofFlorida/College%20Work/M.S.%20in%20BMI/Fall%202023/Data%20Science%20in%20CR/Diabetes_Prediction/notebooks/0.4_GBT.ipynb#X12sZmlsZQ%3D%3D?line=5'>6</a>\u001b[0m     metrics\u001b[39m=\u001b[39;49m\u001b[39m'\u001b[39;49m\u001b[39mbinary_logloss\u001b[39;49m\u001b[39m'\u001b[39;49m,\n\u001b[1;32m      <a href='vscode-notebook-cell:/Users/aman.pathak/Library/CloudStorage/OneDrive-UniversityofFlorida/College%20Work/M.S.%20in%20BMI/Fall%202023/Data%20Science%20in%20CR/Diabetes_Prediction/notebooks/0.4_GBT.ipynb#X12sZmlsZQ%3D%3D?line=6'>7</a>\u001b[0m     stratified\u001b[39m=\u001b[39;49m\u001b[39mTrue\u001b[39;49;00m,\n\u001b[1;32m      <a href='vscode-notebook-cell:/Users/aman.pathak/Library/CloudStorage/OneDrive-UniversityofFlorida/College%20Work/M.S.%20in%20BMI/Fall%202023/Data%20Science%20in%20CR/Diabetes_Prediction/notebooks/0.4_GBT.ipynb#X12sZmlsZQ%3D%3D?line=7'>8</a>\u001b[0m     seed\u001b[39m=\u001b[39;49m\u001b[39m42\u001b[39;49m\n\u001b[1;32m      <a href='vscode-notebook-cell:/Users/aman.pathak/Library/CloudStorage/OneDrive-UniversityofFlorida/College%20Work/M.S.%20in%20BMI/Fall%202023/Data%20Science%20in%20CR/Diabetes_Prediction/notebooks/0.4_GBT.ipynb#X12sZmlsZQ%3D%3D?line=8'>9</a>\u001b[0m )\n",
      "File \u001b[0;32m~/miniconda3/envs/DSClass/lib/python3.9/site-packages/lightgbm/engine.py:716\u001b[0m, in \u001b[0;36mcv\u001b[0;34m(params, train_set, num_boost_round, folds, nfold, stratified, shuffle, metrics, feval, init_model, feature_name, categorical_feature, fpreproc, seed, callbacks, eval_train_metric, return_cvbooster)\u001b[0m\n\u001b[1;32m    713\u001b[0m         params\u001b[39m.\u001b[39mpop(metric_alias, \u001b[39mNone\u001b[39;00m)\n\u001b[1;32m    714\u001b[0m     params[\u001b[39m'\u001b[39m\u001b[39mmetric\u001b[39m\u001b[39m'\u001b[39m] \u001b[39m=\u001b[39m metrics\n\u001b[0;32m--> 716\u001b[0m train_set\u001b[39m.\u001b[39;49m_update_params(params) \\\n\u001b[1;32m    717\u001b[0m          \u001b[39m.\u001b[39;49m_set_predictor(predictor) \\\n\u001b[1;32m    718\u001b[0m          \u001b[39m.\u001b[39;49mset_feature_name(feature_name) \\\n\u001b[1;32m    719\u001b[0m          \u001b[39m.\u001b[39;49mset_categorical_feature(categorical_feature)\n\u001b[1;32m    721\u001b[0m results \u001b[39m=\u001b[39m defaultdict(\u001b[39mlist\u001b[39m)\n\u001b[1;32m    722\u001b[0m cvfolds \u001b[39m=\u001b[39m _make_n_folds(full_data\u001b[39m=\u001b[39mtrain_set, folds\u001b[39m=\u001b[39mfolds, nfold\u001b[39m=\u001b[39mnfold,\n\u001b[1;32m    723\u001b[0m                         params\u001b[39m=\u001b[39mparams, seed\u001b[39m=\u001b[39mseed, fpreproc\u001b[39m=\u001b[39mfpreproc,\n\u001b[1;32m    724\u001b[0m                         stratified\u001b[39m=\u001b[39mstratified, shuffle\u001b[39m=\u001b[39mshuffle,\n\u001b[1;32m    725\u001b[0m                         eval_train_metric\u001b[39m=\u001b[39meval_train_metric)\n",
      "File \u001b[0;32m~/miniconda3/envs/DSClass/lib/python3.9/site-packages/lightgbm/basic.py:2541\u001b[0m, in \u001b[0;36mDataset.set_categorical_feature\u001b[0;34m(self, categorical_feature)\u001b[0m\n\u001b[1;32m   2525\u001b[0m \u001b[39mdef\u001b[39;00m \u001b[39mset_categorical_feature\u001b[39m(\n\u001b[1;32m   2526\u001b[0m     \u001b[39mself\u001b[39m,\n\u001b[1;32m   2527\u001b[0m     categorical_feature: _LGBM_CategoricalFeatureConfiguration\n\u001b[1;32m   2528\u001b[0m ) \u001b[39m-\u001b[39m\u001b[39m>\u001b[39m \u001b[39m\"\u001b[39m\u001b[39mDataset\u001b[39m\u001b[39m\"\u001b[39m:\n\u001b[1;32m   2529\u001b[0m \u001b[39m    \u001b[39m\u001b[39m\"\"\"Set categorical features.\u001b[39;00m\n\u001b[1;32m   2530\u001b[0m \n\u001b[1;32m   2531\u001b[0m \u001b[39m    Parameters\u001b[39;00m\n\u001b[0;32m   (...)\u001b[0m\n\u001b[1;32m   2539\u001b[0m \u001b[39m        Dataset with set categorical features.\u001b[39;00m\n\u001b[1;32m   2540\u001b[0m \u001b[39m    \"\"\"\u001b[39;00m\n\u001b[0;32m-> 2541\u001b[0m     \u001b[39mif\u001b[39;00m \u001b[39mself\u001b[39m\u001b[39m.\u001b[39mcategorical_feature \u001b[39m==\u001b[39m categorical_feature:\n\u001b[1;32m   2542\u001b[0m         \u001b[39mreturn\u001b[39;00m \u001b[39mself\u001b[39m\n\u001b[1;32m   2543\u001b[0m     \u001b[39mif\u001b[39;00m \u001b[39mself\u001b[39m\u001b[39m.\u001b[39mdata \u001b[39mis\u001b[39;00m \u001b[39mnot\u001b[39;00m \u001b[39mNone\u001b[39;00m:\n",
      "\u001b[0;31mValueError\u001b[0m: The truth value of an array with more than one element is ambiguous. Use a.any() or a.all()"
     ]
    }
   ],
   "source": [
    "cv_results = lgb.cv(\n",
    "    params,\n",
    "    train_data,\n",
    "    num_boost_round=1000,\n",
    "    nfold=5,\n",
    "    metrics='binary_logloss',\n",
    "    stratified=True,\n",
    "    seed=42\n",
    ")\n"
   ]
  },
  {
   "cell_type": "markdown",
   "metadata": {},
   "source": [
    "### DummyClassifier"
   ]
  },
  {
   "cell_type": "code",
   "execution_count": 26,
   "metadata": {},
   "outputs": [
    {
     "name": "stdout",
     "output_type": "stream",
     "text": [
      "XGBoost Metrics:\n",
      "Accuracy: 0.89\n",
      "Precision: 0.93\n",
      "Recall: 0.94\n",
      "F1 Score: 0.93\n",
      "AUC: 0.80\n"
     ]
    }
   ],
   "source": [
    "from xgboost import XGBClassifier\n",
    "\n",
    "# fit model no training data\n",
    "model = XGBClassifier()\n",
    "model.fit(X_train, y_train)\n",
    "y_pred = model.predict(X_test)\n",
    "\n",
    "\n",
    "accuracy_dt = accuracy_score(y_test, y_pred)\n",
    "precision_dt = precision_score(y_test, y_pred)\n",
    "recall_dt = recall_score(y_test, y_pred)\n",
    "f1_score_dt = f1_score(y_test, y_pred)\n",
    "\n",
    "# Calculate AUC for Decision Tree\n",
    "y_probs_dt = model.predict_proba(X_test)[:, 1]\n",
    "roc_auc_dt = roc_auc_score(y_test, y_probs_dt)\n",
    "\n",
    "print(\"XGBoost Metrics:\")\n",
    "print(f\"Accuracy: {accuracy_dt:.2f}\")\n",
    "print(f\"Precision: {precision_dt:.2f}\")\n",
    "print(f\"Recall: {recall_dt:.2f}\")\n",
    "print(f\"F1 Score: {f1_score_dt:.2f}\")\n",
    "print(f\"AUC: {roc_auc_dt:.2f}\")"
   ]
  },
  {
   "cell_type": "code",
   "execution_count": null,
   "metadata": {},
   "outputs": [],
   "source": [
    "###  DummyClassifier"
   ]
  }
 ],
 "metadata": {
  "kernelspec": {
   "display_name": "DSClass",
   "language": "python",
   "name": "python3"
  },
  "language_info": {
   "codemirror_mode": {
    "name": "ipython",
    "version": 3
   },
   "file_extension": ".py",
   "mimetype": "text/x-python",
   "name": "python",
   "nbconvert_exporter": "python",
   "pygments_lexer": "ipython3",
   "version": "3.9.17"
  }
 },
 "nbformat": 4,
 "nbformat_minor": 2
}
